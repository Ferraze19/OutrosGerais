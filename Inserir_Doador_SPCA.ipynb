{
 "cells": [
  {
   "cell_type": "code",
   "execution_count": 64,
   "metadata": {},
   "outputs": [],
   "source": [
    "import pyautogui\n",
    "import pyperclip\n",
    "import time\n",
    "import import_ipynb\n",
    "import Base_Dados as bd\n",
    "import pandas as pd"
   ]
  },
  {
   "cell_type": "code",
   "execution_count": 83,
   "metadata": {},
   "outputs": [],
   "source": [
    "lf = bd.Criar_lista_doadores()"
   ]
  },
  {
   "cell_type": "code",
   "execution_count": 89,
   "metadata": {},
   "outputs": [],
   "source": [
    "def Inserir_doador(lf_filt, tipo_doador):\n",
    "    global lf\n",
    "    lista_doadores = lf_filt\n",
    "    #pyautogui.hotkey(\"Alt\", \"Tab\")\n",
    "    time.sleep(1)\n",
    "    pyautogui.click(x=-64, y=503)\n",
    "    for i in lista_doadores.index:\n",
    "        pyautogui.click(x=-64, y=503)\n",
    "        pyautogui.click(x=-64, y=550)\n",
    "        time.sleep(3)\n",
    "        Data = lista_doadores.at[i, \"Data:\"] #Obter iésima entrada de dado de data da tabela\n",
    "        pyautogui.click(x=-1067, y=466)\n",
    "        if type(Data) is str:\n",
    "            pyperclip.copy(Data)\n",
    "        else:\n",
    "            Data = str(Data)\n",
    "            pyperclip.copy(Data[8:10]+Data[5:7]+Data[0:4])\n",
    "        time.sleep(0.4)        \n",
    "        pyautogui.hotkey(\"Ctrl\", \"V\") #Inserir dado obtido linha anterior\n",
    "        pyautogui.press('Enter')\n",
    "        pyautogui.press('Tab')\n",
    "        pyautogui.press('Enter')\n",
    "        time.sleep(0.4)\n",
    "        pyautogui.click(x=-1105, y=523)\n",
    "        time.sleep(0.4)\n",
    "        pyautogui.press('Esc')\n",
    "        pyautogui.press('Esc')\n",
    "        Valor = '{0:.2f}'.format(lista_doadores.at[i, \"Valor\"])#Obter iésima entrada de dado de valor da tabela\n",
    "        pyperclip.copy(Valor)\n",
    "        pyautogui.hotkey(\"Ctrl\", \"V\") #Inserir dado obtido linha anterior\n",
    "        pyautogui.press('Tab')\n",
    "        time.sleep(0.5)        \n",
    "        pyautogui.click(x=-1095, y=557)\n",
    "        pyautogui.press('O')\n",
    "        pyautogui.press('Enter')\n",
    "        time.sleep(1)\n",
    "        pyautogui.click(x=-1094, y=605)\n",
    "        pyautogui.press('F')\n",
    "        pyautogui.press('Enter')\n",
    "        time.sleep(1)\n",
    "        pyautogui.click(x=-1094, y=648)\n",
    "        pyautogui.press('P')\n",
    "        pyautogui.press('Enter')\n",
    "        time.sleep(1)\n",
    "        pyautogui.click(x=-1094, y=686)\n",
    "        CPF = str(lista_doadores.at[i, \"CPF\"])#Obter iésima entrada de dado de CPF da tabela\n",
    "        pyperclip.copy(CPF.zfill(11))\n",
    "        pyautogui.hotkey(\"Ctrl\", \"V\") #Inserir dado obtido linha anterior\n",
    "        pyautogui.press('Enter')\n",
    "        time.sleep(0.4)\n",
    "        pyautogui.press('Tab')\n",
    "        time.sleep(0.5)\n",
    "        pyautogui.click(x=-1094, y=743)\n",
    "        time.sleep(0.4)\n",
    "        Nome = lista_doadores.at[i, \"NOME\"]#Obter iésima entrada de dado de nome da tabela\n",
    "        pyperclip.copy(str(Nome))\n",
    "        pyautogui.hotkey(\"Ctrl\", \"V\") #Inserir dado obtido linha anterior\n",
    "        pyautogui.press('Enter')\n",
    "        pyautogui.press('Tab')\n",
    "        time.sleep(0.5)\n",
    "        pyautogui.click(x=-1094, y=797)\n",
    "        if tipo_doador=='1' or tipo_doador=='0':\n",
    "            pyautogui.press('C')\n",
    "        else:\n",
    "            pyautogui.press('D')\n",
    "            pyautogui.press('D')\n",
    "            pyautogui.press('D')\n",
    "            pyautogui.press('D')\n",
    "        pyautogui.press('Enter')\n",
    "        time.sleep(1)\n",
    "        pyautogui.click(x=-1094, y=837)\n",
    "        if tipo_doador=='1' or tipo_doador=='0':\n",
    "            pyautogui.press('C')\n",
    "        else:\n",
    "            pyautogui.press('D')\n",
    "            pyautogui.press('D')\n",
    "            pyautogui.press('D')\n",
    "            pyautogui.press('D')\n",
    "        pyautogui.press('Enter')\n",
    "        time.sleep(1)\n",
    "        pyautogui.press('Tab')\n",
    "        pyautogui.press('Tab')\n",
    "        time.sleep(0.5)\n",
    "        if tipo_doador=='1' or tipo_doador=='0':\n",
    "            Titulo = lista_doadores.at[i, \"Titulo\"]#Obter iésima entrada de dado de nome da tabela\n",
    "            pyperclip.copy(str(Titulo))\n",
    "            pyautogui.hotkey(\"Ctrl\", \"V\") #Inserir dado obtido linha anterior\n",
    "            pyautogui.press('Tab')\n",
    "        time.sleep(1)\n",
    "        Num_lan = lista_doadores.at[i, \"# SPCA\"]#Obter iésima entrada de dado de número de lançamento da tabela\n",
    "        pyperclip.copy(str(Num_lan))\n",
    "        pyautogui.hotkey(\"Ctrl\", \"V\") #Inserir dado obtido linha anterior\n",
    "        pyautogui.press('Tab')\n",
    "        if tipo_doador=='1' or tipo_doador=='2':\n",
    "            Num_rec = str(int(lista_doadores.at[i, \"Numero Recibo\"]))#Obter iésima entrada de dado de número de lançamento da tabela\n",
    "            pyperclip.copy(Num_rec.zfill(6))\n",
    "            pyautogui.hotkey(\"Ctrl\", \"V\") #Inserir dado obtido linha anterior\n",
    "        pyautogui.press('Tab')\n",
    "        time.sleep(1)\n",
    "        pyautogui.press('Tab')\n",
    "        pyautogui.press('T')\n",
    "        time.sleep(1)\n",
    "        pyautogui.press('Tab')\n",
    "        pyautogui.press('Tab')\n",
    "        pyautogui.click(x=-1108, y=500)\n",
    "        time.sleep(1)\n",
    "        pyautogui.press('T')\n",
    "        pyautogui.click(x=-1108, y=500)\n",
    "        time.sleep(0.5)\n",
    "        pyautogui.press('T')\n",
    "        time.sleep(1)\n",
    "        #pyautogui.click(x=-1108, y=545)\n",
    "        pyautogui.press('Tab')\n",
    "        Num_Doc = lista_doadores.at[i, \"Numero Doc\"]#Obter iésima entrada de dado de número de documento da tabela\n",
    "        pyperclip.copy(str(Num_Doc))\n",
    "        pyautogui.hotkey(\"Ctrl\", \"V\") #Inserir dado obtido linha anterior\n",
    "        pyautogui.press('Tab')\n",
    "        #pyautogui.click(x=-1143, y=739)\n",
    "        pyautogui.press('O')\n",
    "        #pyautogui.press('Enter')\n",
    "        pyautogui.click(x=-1290, y=841)\n",
    "        time.sleep(1)\n",
    "        pyautogui.click(x=-761, y=556)\n",
    "        time.sleep(1)\n",
    "        pyautogui.click(x=-1103, y=485)\n",
    "        pyperclip.copy(str(Num_lan))\n",
    "        pyautogui.hotkey(\"Ctrl\", \"V\") #Inserir dado obtido linha anterior\n",
    "        pyautogui.press('Tab')\n",
    "        if tipo_doador=='0':\n",
    "            pyautogui.press('Delete')\n",
    "        elif tipo_doador=='1'or tipo_doador=='2':\n",
    "            pyperclip.copy(Num_rec.zfill(6))\n",
    "            pyautogui.hotkey(\"Ctrl\", \"V\") #Inserir dado obtido linha anterior\n",
    "        pyautogui.click(x=-1108, y=833)\n",
    "        pyautogui.press('T')\n",
    "        time.sleep(0.5)\n",
    "        pyautogui.press('T')\n",
    "        pyautogui.press('Enter')\n",
    "        time.sleep(0.5)\n",
    "        pyautogui.press('Tab')\n",
    "        time.sleep(0.5)\n",
    "        pyperclip.copy(str(Num_Doc))\n",
    "        pyautogui.hotkey(\"Ctrl\", \"V\") #Inserir dado obtido linha anterior\n",
    "        time.sleep(0.5)\n",
    "        pyautogui.press('Tab')\n",
    "        pyautogui.press('O')\n",
    "        pyautogui.click(x=-1290, y=811)\n",
    "        time.sleep(1)\n",
    "        pyautogui.click(x=-750, y=554)\n",
    "        #lista_inseridos.append(Num_lan)\n",
    "        lf.drop(i,0, inplace=True)\n",
    "        print (Num_lan, CPF, 'INSERIDO')\n",
    "        time.sleep(3)"
   ]
  },
  {
   "cell_type": "code",
   "execution_count": 90,
   "metadata": {},
   "outputs": [],
   "source": [
    " def Selec_tipo_doador():\n",
    "    Tipo_doador = str(input(\"\"\"Escolha o tipo de doação a ser inserida no SPCA:\n",
    "\n",
    "            0 - Para doações de filiados ABAIXO de 200 reais, ou seja, SEM recibo\n",
    "            1 - Para doações de filiados ACIMA de 200 reais, ou seja, COM recibo\n",
    "            2 - Para doações de NÃO filiados\n",
    "            \"\"\"))\n",
    "    if Tipo_doador=='0':\n",
    "        lista_doadores = bd.Filt_list (lf, (['Titulo', 'CPF', 'Data:', 'NOME', 'Valor', '# SPCA', 'Numero Doc'], 'NO', 'Recibos?'))\n",
    "        Inserir_doador(lista_doadores, Tipo_doador)\n",
    "    elif Tipo_doador=='1':\n",
    "        lista_doadores_temp = bd.Filt_list (lf, (['Titulo', 'CPF', 'Data:', 'NOME', 'Valor', 'Numero Recibo', 'Filiado?', '# SPCA', 'Numero Doc'], 'RECIBO', 'Recibos?'))\n",
    "        lista_doadores = bd.Filt_list (lista_doadores_temp, (['Titulo', 'CPF', 'Data:', 'NOME', 'Valor', 'Numero Recibo', '# SPCA', 'Numero Doc'], 'YES', 'Filiado?'))\n",
    "        Inserir_doador(lista_doadores, Tipo_doador)   \n",
    "    elif Tipo_doador=='2':\n",
    "        lista_doadores_temp = bd.Filt_list (lf, (['Titulo', 'CPF', 'Data:', 'NOME', 'Valor', 'Numero Recibo', 'Filiado?', '# SPCA', 'Numero Doc'], 'RECIBO', 'Recibos?'))\n",
    "        lista_doadores = bd.Filt_list (lista_doadores_temp, (['Titulo', 'CPF', 'Data:', 'NOME', 'Valor', 'Numero Recibo', '# SPCA', 'Numero Doc'], 'NO', 'Filiado?'))\n",
    "        Inserir_doador(lista_doadores, Tipo_doador)"
   ]
  },
  {
   "cell_type": "code",
   "execution_count": null,
   "metadata": {},
   "outputs": [],
   "source": [
    "Selec_tipo_doador()"
   ]
  },
  {
   "cell_type": "code",
   "execution_count": 73,
   "metadata": {
    "scrolled": false
   },
   "outputs": [
    {
     "data": {
      "text/plain": [
       "Point(x=-1097, y=505)"
      ]
     },
     "execution_count": 73,
     "metadata": {},
     "output_type": "execute_result"
    }
   ],
   "source": [
    "pyautogui.position()\n"
   ]
  },
  {
   "cell_type": "code",
   "execution_count": 55,
   "metadata": {},
   "outputs": [],
   "source": [
    "lf.drop(9,0, inplace=True)"
   ]
  },
  {
   "cell_type": "code",
   "execution_count": 87,
   "metadata": {
    "scrolled": true
   },
   "outputs": [
    {
     "name": "stdout",
     "output_type": "stream",
     "text": [
      "            Titulo          CPF       Data:                              NOME  \\\n",
      "41  1480 2835 0370  13689447798  10/12/2021      ANA CAROLINA OLIVEIRA MATTOS   \n",
      "42  1668 5136 0310  13233613750  10/12/2021          Giovanna Almeida Tavares   \n",
      "43  0879 0265 0361   7581704750  14/12/2021            Victor Barbosa Saraiva   \n",
      "44  1588 9583 0353  14622342758  16/12/2021       Afonso Lustosa Pires Junior   \n",
      "45  1745 5159 0329  18164688789  17/12/2021  LETICIA DE PAULA ANTUNES BARBOSA   \n",
      "\n",
      "    Valor Inf. Filiado? Recibos?  Numero Recibo  # SPCA  Numero Doc  Status  \n",
      "41 100.00    C      YES       NO              0     527         nan     nan  \n",
      "42  10.00    C      YES       NO              0     528         nan     nan  \n",
      "43  50.00    C      YES       NO              0     529         nan     nan  \n",
      "44  30.00    C      YES       NO              0     530         nan     nan  \n",
      "45  20.00    C      YES       NO              0     531         nan     nan  \n",
      "            Titulo          CPF       Data:                              NOME  \\\n",
      "42  1668 5136 0310  13233613750  10/12/2021          Giovanna Almeida Tavares   \n",
      "43  0879 0265 0361   7581704750  14/12/2021            Victor Barbosa Saraiva   \n",
      "44  1588 9583 0353  14622342758  16/12/2021       Afonso Lustosa Pires Junior   \n",
      "45  1745 5159 0329  18164688789  17/12/2021  LETICIA DE PAULA ANTUNES BARBOSA   \n",
      "47  1779 9737 0302  18083741779  27/12/2021          Gabriella Carvalho Falci   \n",
      "\n",
      "    Valor Inf. Filiado? Recibos?  Numero Recibo  # SPCA  Numero Doc  Status  \n",
      "42  10.00    C      YES       NO              0     528         nan     nan  \n",
      "43  50.00    C      YES       NO              0     529         nan     nan  \n",
      "44  30.00    C      YES       NO              0     530         nan     nan  \n",
      "45  20.00    C      YES       NO              0     531         nan     nan  \n",
      "47  10.00    C      YES       NO              0     533         nan     nan  \n",
      "Titulo            object\n",
      "CPF                int64\n",
      "Data:             object\n",
      "NOME              object\n",
      "Valor            float64\n",
      "Inf.              object\n",
      "Filiado?          object\n",
      "Recibos?          object\n",
      "Numero Recibo      int64\n",
      "# SPCA             int64\n",
      "Numero Doc       float64\n",
      "Status           float64\n",
      "dtype: object\n"
     ]
    }
   ],
   "source": [
    "print(lf.head())\n",
    "print(lf.tail())\n",
    "print(lf.dtypes)"
   ]
  },
  {
   "cell_type": "code",
   "execution_count": null,
   "metadata": {},
   "outputs": [],
   "source": [
    "pyautogui.click(x=-1105, y=523)"
   ]
  },
  {
   "cell_type": "code",
   "execution_count": null,
   "metadata": {},
   "outputs": [],
   "source": [
    "pyautogui.click(x=-1067, y=466)\n",
    "pyperclip.copy(Data[8:10]+Data[5:7]+Data[0:4])\n",
    "time.sleep(0.4)        \n",
    "pyautogui.hotkey(\"Ctrl\", \"V\") #Inserir dado obtido linha anterior\n",
    "pyautogui.press('Enter')"
   ]
  },
  {
   "cell_type": "code",
   "execution_count": 14,
   "metadata": {},
   "outputs": [
    {
     "name": "stdout",
     "output_type": "stream",
     "text": [
      "50.00 <class 'str'>\n",
      "\n"
     ]
    },
    {
     "ename": "KeyboardInterrupt",
     "evalue": "",
     "output_type": "error",
     "traceback": [
      "\u001b[1;31m---------------------------------------------------------------------------\u001b[0m",
      "\u001b[1;31mKeyboardInterrupt\u001b[0m                         Traceback (most recent call last)",
      "\u001b[1;32m~\\anaconda3\\lib\\site-packages\\ipykernel\\kernelbase.py\u001b[0m in \u001b[0;36m_input_request\u001b[1;34m(self, prompt, ident, parent, password)\u001b[0m\n\u001b[0;32m    883\u001b[0m             \u001b[1;32mtry\u001b[0m\u001b[1;33m:\u001b[0m\u001b[1;33m\u001b[0m\u001b[1;33m\u001b[0m\u001b[0m\n\u001b[1;32m--> 884\u001b[1;33m                 \u001b[0mident\u001b[0m\u001b[1;33m,\u001b[0m \u001b[0mreply\u001b[0m \u001b[1;33m=\u001b[0m \u001b[0mself\u001b[0m\u001b[1;33m.\u001b[0m\u001b[0msession\u001b[0m\u001b[1;33m.\u001b[0m\u001b[0mrecv\u001b[0m\u001b[1;33m(\u001b[0m\u001b[0mself\u001b[0m\u001b[1;33m.\u001b[0m\u001b[0mstdin_socket\u001b[0m\u001b[1;33m,\u001b[0m \u001b[1;36m0\u001b[0m\u001b[1;33m)\u001b[0m\u001b[1;33m\u001b[0m\u001b[1;33m\u001b[0m\u001b[0m\n\u001b[0m\u001b[0;32m    885\u001b[0m             \u001b[1;32mexcept\u001b[0m \u001b[0mException\u001b[0m\u001b[1;33m:\u001b[0m\u001b[1;33m\u001b[0m\u001b[1;33m\u001b[0m\u001b[0m\n",
      "\u001b[1;32m~\\anaconda3\\lib\\site-packages\\jupyter_client\\session.py\u001b[0m in \u001b[0;36mrecv\u001b[1;34m(self, socket, mode, content, copy)\u001b[0m\n\u001b[0;32m    802\u001b[0m         \u001b[1;32mtry\u001b[0m\u001b[1;33m:\u001b[0m\u001b[1;33m\u001b[0m\u001b[1;33m\u001b[0m\u001b[0m\n\u001b[1;32m--> 803\u001b[1;33m             \u001b[0mmsg_list\u001b[0m \u001b[1;33m=\u001b[0m \u001b[0msocket\u001b[0m\u001b[1;33m.\u001b[0m\u001b[0mrecv_multipart\u001b[0m\u001b[1;33m(\u001b[0m\u001b[0mmode\u001b[0m\u001b[1;33m,\u001b[0m \u001b[0mcopy\u001b[0m\u001b[1;33m=\u001b[0m\u001b[0mcopy\u001b[0m\u001b[1;33m)\u001b[0m\u001b[1;33m\u001b[0m\u001b[1;33m\u001b[0m\u001b[0m\n\u001b[0m\u001b[0;32m    804\u001b[0m         \u001b[1;32mexcept\u001b[0m \u001b[0mzmq\u001b[0m\u001b[1;33m.\u001b[0m\u001b[0mZMQError\u001b[0m \u001b[1;32mas\u001b[0m \u001b[0me\u001b[0m\u001b[1;33m:\u001b[0m\u001b[1;33m\u001b[0m\u001b[1;33m\u001b[0m\u001b[0m\n",
      "\u001b[1;32m~\\anaconda3\\lib\\site-packages\\zmq\\sugar\\socket.py\u001b[0m in \u001b[0;36mrecv_multipart\u001b[1;34m(self, flags, copy, track)\u001b[0m\n\u001b[0;32m    474\u001b[0m         \"\"\"\n\u001b[1;32m--> 475\u001b[1;33m         \u001b[0mparts\u001b[0m \u001b[1;33m=\u001b[0m \u001b[1;33m[\u001b[0m\u001b[0mself\u001b[0m\u001b[1;33m.\u001b[0m\u001b[0mrecv\u001b[0m\u001b[1;33m(\u001b[0m\u001b[0mflags\u001b[0m\u001b[1;33m,\u001b[0m \u001b[0mcopy\u001b[0m\u001b[1;33m=\u001b[0m\u001b[0mcopy\u001b[0m\u001b[1;33m,\u001b[0m \u001b[0mtrack\u001b[0m\u001b[1;33m=\u001b[0m\u001b[0mtrack\u001b[0m\u001b[1;33m)\u001b[0m\u001b[1;33m]\u001b[0m\u001b[1;33m\u001b[0m\u001b[1;33m\u001b[0m\u001b[0m\n\u001b[0m\u001b[0;32m    476\u001b[0m         \u001b[1;31m# have first part already, only loop while more to receive\u001b[0m\u001b[1;33m\u001b[0m\u001b[1;33m\u001b[0m\u001b[1;33m\u001b[0m\u001b[0m\n",
      "\u001b[1;32mzmq/backend/cython/socket.pyx\u001b[0m in \u001b[0;36mzmq.backend.cython.socket.Socket.recv\u001b[1;34m()\u001b[0m\n",
      "\u001b[1;32mzmq/backend/cython/socket.pyx\u001b[0m in \u001b[0;36mzmq.backend.cython.socket.Socket.recv\u001b[1;34m()\u001b[0m\n",
      "\u001b[1;32mzmq/backend/cython/socket.pyx\u001b[0m in \u001b[0;36mzmq.backend.cython.socket._recv_copy\u001b[1;34m()\u001b[0m\n",
      "\u001b[1;32m~\\anaconda3\\lib\\site-packages\\zmq\\backend\\cython\\checkrc.pxd\u001b[0m in \u001b[0;36mzmq.backend.cython.checkrc._check_rc\u001b[1;34m()\u001b[0m\n",
      "\u001b[1;31mKeyboardInterrupt\u001b[0m: ",
      "\nDuring handling of the above exception, another exception occurred:\n",
      "\u001b[1;31mKeyboardInterrupt\u001b[0m                         Traceback (most recent call last)",
      "\u001b[1;32m<ipython-input-14-a5e10b19e5b0>\u001b[0m in \u001b[0;36m<module>\u001b[1;34m\u001b[0m\n\u001b[0;32m      2\u001b[0m     \u001b[0mValor\u001b[0m \u001b[1;33m=\u001b[0m \u001b[1;34m'{0:.2f}'\u001b[0m\u001b[1;33m.\u001b[0m\u001b[0mformat\u001b[0m\u001b[1;33m(\u001b[0m\u001b[0mlista_doadores\u001b[0m\u001b[1;33m.\u001b[0m\u001b[0mat\u001b[0m\u001b[1;33m[\u001b[0m\u001b[0mi\u001b[0m\u001b[1;33m,\u001b[0m \u001b[1;34m\"Valor\"\u001b[0m\u001b[1;33m]\u001b[0m\u001b[1;33m)\u001b[0m\u001b[1;33m\u001b[0m\u001b[1;33m\u001b[0m\u001b[0m\n\u001b[0;32m      3\u001b[0m     \u001b[0mprint\u001b[0m \u001b[1;33m(\u001b[0m\u001b[0mValor\u001b[0m\u001b[1;33m,\u001b[0m \u001b[0mtype\u001b[0m\u001b[1;33m(\u001b[0m\u001b[0mValor\u001b[0m\u001b[1;33m)\u001b[0m\u001b[1;33m)\u001b[0m\u001b[1;33m\u001b[0m\u001b[1;33m\u001b[0m\u001b[0m\n\u001b[1;32m----> 4\u001b[1;33m     \u001b[0minput\u001b[0m\u001b[1;33m(\u001b[0m\u001b[1;33m)\u001b[0m\u001b[1;33m\u001b[0m\u001b[1;33m\u001b[0m\u001b[0m\n\u001b[0m",
      "\u001b[1;32m~\\anaconda3\\lib\\site-packages\\ipykernel\\kernelbase.py\u001b[0m in \u001b[0;36mraw_input\u001b[1;34m(self, prompt)\u001b[0m\n\u001b[0;32m    857\u001b[0m             \u001b[0mself\u001b[0m\u001b[1;33m.\u001b[0m\u001b[0m_parent_ident\u001b[0m\u001b[1;33m,\u001b[0m\u001b[1;33m\u001b[0m\u001b[1;33m\u001b[0m\u001b[0m\n\u001b[0;32m    858\u001b[0m             \u001b[0mself\u001b[0m\u001b[1;33m.\u001b[0m\u001b[0m_parent_header\u001b[0m\u001b[1;33m,\u001b[0m\u001b[1;33m\u001b[0m\u001b[1;33m\u001b[0m\u001b[0m\n\u001b[1;32m--> 859\u001b[1;33m             \u001b[0mpassword\u001b[0m\u001b[1;33m=\u001b[0m\u001b[1;32mFalse\u001b[0m\u001b[1;33m,\u001b[0m\u001b[1;33m\u001b[0m\u001b[1;33m\u001b[0m\u001b[0m\n\u001b[0m\u001b[0;32m    860\u001b[0m         )\n\u001b[0;32m    861\u001b[0m \u001b[1;33m\u001b[0m\u001b[0m\n",
      "\u001b[1;32m~\\anaconda3\\lib\\site-packages\\ipykernel\\kernelbase.py\u001b[0m in \u001b[0;36m_input_request\u001b[1;34m(self, prompt, ident, parent, password)\u001b[0m\n\u001b[0;32m    887\u001b[0m             \u001b[1;32mexcept\u001b[0m \u001b[0mKeyboardInterrupt\u001b[0m\u001b[1;33m:\u001b[0m\u001b[1;33m\u001b[0m\u001b[1;33m\u001b[0m\u001b[0m\n\u001b[0;32m    888\u001b[0m                 \u001b[1;31m# re-raise KeyboardInterrupt, to truncate traceback\u001b[0m\u001b[1;33m\u001b[0m\u001b[1;33m\u001b[0m\u001b[1;33m\u001b[0m\u001b[0m\n\u001b[1;32m--> 889\u001b[1;33m                 \u001b[1;32mraise\u001b[0m \u001b[0mKeyboardInterrupt\u001b[0m\u001b[1;33m\u001b[0m\u001b[1;33m\u001b[0m\u001b[0m\n\u001b[0m\u001b[0;32m    890\u001b[0m             \u001b[1;32melse\u001b[0m\u001b[1;33m:\u001b[0m\u001b[1;33m\u001b[0m\u001b[1;33m\u001b[0m\u001b[0m\n\u001b[0;32m    891\u001b[0m                 \u001b[1;32mbreak\u001b[0m\u001b[1;33m\u001b[0m\u001b[1;33m\u001b[0m\u001b[0m\n",
      "\u001b[1;31mKeyboardInterrupt\u001b[0m: "
     ]
    }
   ],
   "source": [
    "for i in lista_doadores.index:\n",
    "    Valor = '{0:.2f}'.format(lista_doadores.at[i, \"Valor\"])\n",
    "    print (Valor, type(Valor))\n",
    "    input()"
   ]
  },
  {
   "cell_type": "code",
   "execution_count": null,
   "metadata": {},
   "outputs": [],
   "source": []
  },
  {
   "cell_type": "code",
   "execution_count": null,
   "metadata": {},
   "outputs": [],
   "source": []
  }
 ],
 "metadata": {
  "kernelspec": {
   "display_name": "Python 3",
   "language": "python",
   "name": "python3"
  },
  "language_info": {
   "codemirror_mode": {
    "name": "ipython",
    "version": 3
   },
   "file_extension": ".py",
   "mimetype": "text/x-python",
   "name": "python",
   "nbconvert_exporter": "python",
   "pygments_lexer": "ipython3",
   "version": "3.7.6"
  }
 },
 "nbformat": 4,
 "nbformat_minor": 4
}
