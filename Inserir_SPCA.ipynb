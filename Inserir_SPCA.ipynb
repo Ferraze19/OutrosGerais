{
 "cells": [
  {
   "cell_type": "code",
   "execution_count": 2,
   "metadata": {},
   "outputs": [
    {
     "name": "stdout",
     "output_type": "stream",
     "text": [
      "importing Jupyter notebook from Base_Dados.ipynb\n"
     ]
    }
   ],
   "source": [
    "import pyautogui\n",
    "import pyperclip\n",
    "import time\n",
    "import import_ipynb\n",
    "import Base_Dados as bd"
   ]
  },
  {
   "cell_type": "code",
   "execution_count": 2,
   "metadata": {},
   "outputs": [],
   "source": [
    "def Inserir_doador():\n",
    "    lista_doadores = bd.Criar_lista_doadores()\n",
    "    pyautogui.hotkey(\"Alt\", \"Tab\")\n",
    "    time.sleep(1)\n",
    "    for i in lista_doadores.index:\n",
    "        pyautogui.click(x=-64, y=503)\n",
    "        time.sleep(2)\n",
    "        pyautogui.click(x=-1067, y=466)\n",
    "        print(lista_doadores)\n",
    "        return()\n",
    "        Data = str(lista_doadores.at[i, \"Data:\"]) #Obter iésima entrada de dado de data da tabela\n",
    "        pyperclip.copy(str(Data))\n",
    "        pyautogui.hotkey(\"Ctrl\", \"V\") #Inserir dado obtido linha anterior\n",
    "        #pyautogui.write(Data) #Inserir dado obtido linha anterior\n",
    "        pyautogui.press('Tab')\n",
    "        time.sleep(0.5)\n",
    "        pyautogui.press('Tab')\n",
    "        Valor = lista_doadores.at[i, \" Valor R$  \"]#Obter iésima entrada de dado de valor da tabela\n",
    "        pyautogui.write(Valor) #Inserir dado obtido linha anterior\n",
    "        pyautogui.press('Tab')\n",
    "        pyautogui.click(x=-1095, y=557)\n",
    "        pyautogui.press('O')\n",
    "        pyautogui.press('Enter')\n",
    "        time.sleep(0.5)\n",
    "        pyautogui.click(x=-1094, y=605)\n",
    "        pyautogui.press('F')\n",
    "        pyautogui.press('Enter')\n",
    "        time.sleep(0.5)\n",
    "        pyautogui.click(x=-1094, y=648)\n",
    "        pyautogui.press('P')\n",
    "        pyautogui.press('Enter')\n",
    "        time.sleep(0.5)\n",
    "        pyautogui.click(x=-1094, y=686)\n",
    "        CPF = lista_doadores.at[i, \"CPF\"]#Obter iésima entrada de dado de CPF da tabela\n",
    "        pyautogui.write(CPF) #Inserir dado obtido linha anterior\n",
    "        pyautogui.press('Tab')\n",
    "        time.sleep(0.5)\n",
    "        return()"
   ]
  },
  {
   "cell_type": "code",
   "execution_count": 4,
   "metadata": {},
   "outputs": [
    {
     "name": "stdout",
     "output_type": "stream",
     "text": [
      "                                   NOME  DATA FILIACAO\n",
      "0            ADAILTON DE OLIVEIRA SILVA     2020-02-11\n",
      "1                ADALBERTO GOMES SOARES     2021-04-06\n",
      "2           AFONSO LUSTOSA PIRES JUNIOR     2020-02-11\n",
      "3             AGUILAY DO CARMO SILVEIRA     2021-09-27\n",
      "4               ALANA VERAS MARINS ROSA     2022-01-16\n",
      "..                                  ...            ...\n",
      "505            YASMIM SOUZA DE OLIVEIRA     2022-04-01\n",
      "506                YASMIN BARROS CORTEZ     2021-09-09\n",
      "507  YGHOR ALVES DA CONCEIÇÃO DE BARROS     2020-03-11\n",
      "508      YNGRID CARDOSO DUARTE MANARINO     2022-03-13\n",
      "509                 ZORBA VIDAL MONCLAR     2020-10-08\n",
      "\n",
      "[510 rows x 2 columns]\n"
     ]
    },
    {
     "data": {
      "text/plain": [
       "()"
      ]
     },
     "execution_count": 4,
     "metadata": {},
     "output_type": "execute_result"
    }
   ],
   "source": [
    "Inserir_doador()"
   ]
  },
  {
   "cell_type": "code",
   "execution_count": 4,
   "metadata": {},
   "outputs": [
    {
     "data": {
      "text/plain": [
       "Point(x=-1096, y=792)"
      ]
     },
     "execution_count": 4,
     "metadata": {},
     "output_type": "execute_result"
    }
   ],
   "source": [
    "pyautogui.position()"
   ]
  },
  {
   "cell_type": "code",
   "execution_count": null,
   "metadata": {},
   "outputs": [],
   "source": [
    "        Nome = lista_doadores.at[i, \"NOME\"]#Obter iésima entrada de dado de nome da tabela\n",
    "        pyperclip.copy(str(Nome))\n",
    "        pyautogui.press('Tab')\n",
    "        pyautogui.hotkey(\"Ctrl\", \"V\") #Inserir dado obtido linha anterior\n",
    "        pyautogui.press('Tab')\n",
    "        pyautogui.click(x=686, y=316)\n",
    "        pyautogui.click(x=880, y=712)\n",
    "        time.sleep(1)\n",
    "        pyautogui.click(x=690, y=528)\n",
    "        time.sleep(1)"
   ]
  },
  {
   "cell_type": "code",
   "execution_count": null,
   "metadata": {},
   "outputs": [],
   "source": []
  },
  {
   "cell_type": "code",
   "execution_count": null,
   "metadata": {},
   "outputs": [],
   "source": []
  }
 ],
 "metadata": {
  "kernelspec": {
   "display_name": "Python 3",
   "language": "python",
   "name": "python3"
  },
  "language_info": {
   "codemirror_mode": {
    "name": "ipython",
    "version": 3
   },
   "file_extension": ".py",
   "mimetype": "text/x-python",
   "name": "python",
   "nbconvert_exporter": "python",
   "pygments_lexer": "ipython3",
   "version": "3.7.6"
  }
 },
 "nbformat": 4,
 "nbformat_minor": 4
}
